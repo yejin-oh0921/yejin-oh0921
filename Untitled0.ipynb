{
  "nbformat": 4,
  "nbformat_minor": 0,
  "metadata": {
    "colab": {
      "name": "Untitled0.ipynb",
      "provenance": [],
      "collapsed_sections": []
    },
    "kernelspec": {
      "name": "python3",
      "display_name": "Python 3"
    }
  },
  "cells": [
    {
      "cell_type": "markdown",
      "metadata": {
        "id": "UsGyfaGKfo55",
        "colab_type": "text"
      },
      "source": [
        "## Laplace's Equation in the Sphere"
      ]
    },
    {
      "cell_type": "markdown",
      "metadata": {
        "id": "Yuwf6oQ-Jw3l",
        "colab_type": "text"
      },
      "source": [
        ">$\\begin{align*}\n",
        "u_{rr}+\\frac{2}{r}u_r+\\frac{1}{r^2}u_{\\phi \\phi }+\\frac{cot\\phi }{r^2}u_\\phi +\\frac{1}{r^2sin^2\\phi }u_{\\theta \\theta }=0 \\ r<R \\\\\n",
        "u(R,\\phi, \\theta)=g(\\phi ,\\theta )\n",
        "\\end{align*}$"
      ]
    },
    {
      "cell_type": "markdown",
      "metadata": {
        "id": "3EfgqKWjSyKY",
        "colab_type": "text"
      },
      "source": [
        "#(a)\n"
      ]
    },
    {
      "cell_type": "markdown",
      "metadata": {
        "id": "32lAPd-xSyNe",
        "colab_type": "text"
      },
      "source": [
        ">$\\begin{align*}\n",
        "u(r,\\theta ,\\phi )=R(r)\\Theta (\\theta )\\Phi (\\phi )\n",
        "\\end{align*}$\n",
        "로 변수분리하면\n",
        "\n",
        ">$\\begin{align*}\n",
        "\\frac{\\Theta \\Phi }{r^2}\\frac{\\partial }{\\partial r}(r^2\\frac{\\partial R}{\\partial r})+\\frac{R\\Theta }{r^2sin\\phi }\\frac{\\partial }{\\partial \\phi }(sin\\phi \\frac{\\partial \\Phi }{\\partial \\phi })+\\frac{R\\Phi }{r^2sin^2\\phi }\\frac{\\partial^2 \\Theta }{\\partial \\theta ^2}=0\n",
        "\\end{align*}$\n",
        "이다. \\\\\n",
        "위 식을 $\\begin{align*}\n",
        "\\frac{R\\Theta \\Phi }{r^2sin^2\\phi }\n",
        "\\end{align*}$\n",
        "로 양변을 나눠주면,\n",
        ">$\\begin{align*}\n",
        "\\frac{sin^2\\phi}{R}\\frac{\\partial }{\\partial r}(\\frac{\\partial R}{\\partial r})+\\frac{sin\\phi }{\\Phi}\\frac{\\partial }{\\partial \\phi}(sin\\phi\\frac{\\partial \\Phi}{\\partial \\phi})=-\\frac{1}{\\Theta}\\frac{\\partial^2 \\Theta}{\\partial \\theta^2} \n",
        "\\end{align*}$ \\\\\n",
        ">$\\begin{align*}\n",
        "-\\frac{1}{\\Theta}\\frac{\\partial^2 \\Theta}{\\partial \\theta^2}=m^2\n",
        "\\end{align*}$\n",
        "\n",
        ">$\\begin{align*}\n",
        "{\\Theta}''+m^2\\Theta=0 \\ m=0,1,2 \\cdot \\! \\cdot \\cdot \n",
        "\\end{align*}$\n"
      ]
    },
    {
      "cell_type": "markdown",
      "metadata": {
        "id": "342Xd2hHUugi",
        "colab_type": "text"
      },
      "source": [
        ">$\\begin{align*}\n",
        "\\frac{1}{R}\\frac{\\partial }{\\partial r}(r^2\\frac{\\partial R}{\\partial r})=-[\\frac{1}{\\Phi sin\\phi }\\frac{\\partial }{\\partial \\phi }(sin\\phi \\frac{\\partial \\Phi }{\\partial \\phi })-\\frac{m^2}{sin^\\phi }]=\\lambda  \\\\\n",
        "\\end{align*}$\n",
        ">$\\begin{align*}\n",
        "\\therefore \\frac{\\partial }{\\partial r}(r^2\\frac{\\partial R}{\\partial r})-\\lambda R=0 \\rightarrow \\frac{1}{sin\\phi} \\frac{\\partial }{\\partial \\phi}(sin\\phi \\frac{\\partial \\Phi }{\\partial \\phi})+(\\lambda -\\frac{m^2}{sin^2\\phi })\\Phi=0 \\rightarrow r^2{R}''+2rR-\\lambda R=0, R=C_1r^n+C_2r^{-{n\\pi}}\n",
        "\\end{align*}$"
      ]
    },
    {
      "cell_type": "markdown",
      "metadata": {
        "id": "jdw2EiT-Uuao",
        "colab_type": "text"
      },
      "source": [
        ">$\\begin{align*}\n",
        "x=cos\\phi ,y= \\Phi \n",
        "\\end{align*}$ \n",
        "라고 하면,\n",
        "\n",
        "$\\begin{align*}\n",
        "\\frac{\\partial }{\\partial \\phi }=\\frac{\\partial x}{\\partial \\phi }\\frac{\\partial }{\\partial x}=-sin\\phi \\frac{\\partial }{\\partial x} \\\\\n",
        "\\frac{\\partial }{\\partial \\phi }(sin\\phi \\frac{\\partial \\Phi}{\\partial \\phi})=-sin\\phi\\frac{\\partial }{\\partial x}(sin\\phi\\frac{\\partial x}{\\partial \\phi}\\frac{\\partial \\Phi }{\\partial x}) \\\\\n",
        "=sin\\phi \\frac{\\partial (sin^2\\phi \\frac{\\partial y}{\\partial x})}{\\partial x} \\\\\n",
        "=\\sqrt{1-x^2}\\frac{\\partial }{\\partial x}((1-x^2)\\frac{\\partial y}{\\partial x})\n",
        "\\end{align*}$"
      ]
    },
    {
      "cell_type": "markdown",
      "metadata": {
        "id": "NisaSkJ7UuX3",
        "colab_type": "text"
      },
      "source": [
        ">$\\begin{align*}\n",
        "(1-x^2)y''-2xy+[(n+1)-\\frac{m^2}{1-x^2}]y^2=0\n",
        "\\end{align*}$\n",
        ">$\\begin{align*}\n",
        "u(a,\\theta ,\\phi)=f(\\theta,\\phi) \\\n",
        "\\ \n",
        "0<\\theta<2\\pi, \\ 0<\\phi<\\pi\n",
        "\\end{align*}$\n",
        "\n",
        ">$\\begin{align*} \\\\\n",
        "u(r,\\theta,\\phi)=\\sum_{n=D}^{\\infty }(\\frac{r}{a})^n[\\frac{1}{2}a_{0n}P_n(cos\\phi )+\\sum_{m=1}^{n}(a_{mn}cosm\\theta +b{mn}sinm\\theta ){P_n}^m(cos\\phi)]\n",
        "\\end{align*}$\n",
        ">$\\begin{align*}\n",
        "a_{mn}=\\frac{(2n+1)(n-m)!}{2\\pi(n+m)!}\\int_{0}^{2\\pi}\\int_{0}^{\\pi}f(\\theta,\\phi){P_n}^m(cos\\phi)cosm\\theta sin\\phi d\\phi d\\theta \\\\\n",
        "b_{mn}=\\frac{(2n+1)(n-m)!}{2\\pi(n+m)!}\\int_{0}^{2\\pi}\\int_{0}^{\\pi}f(\\theta,\\phi){P_n}^m(cos\\phi)sinm\\theta sin\\phi d\\phi d\\theta \n",
        "\\end{align*}$"
      ]
    },
    {
      "cell_type": "markdown",
      "metadata": {
        "id": "iu5v2kFthxVL",
        "colab_type": "text"
      },
      "source": [
        "#(b)"
      ]
    },
    {
      "cell_type": "markdown",
      "metadata": {
        "id": "AdSADwZNSyU2",
        "colab_type": "text"
      },
      "source": [
        ">$\\begin{align*}\n",
        "K(r,\\phi ,\\theta;R,\\varphi, \\vartheta ) \n",
        "\\end{align*}$\n",
        "도출 \\\\\n",
        ">$\\begin{align*}\n",
        "u(r,\\theta,\\phi)=u(r,\\phi) 가정\n",
        "\\end{align*}$"
      ]
    },
    {
      "cell_type": "markdown",
      "metadata": {
        "id": "WScKNDnNSyaE",
        "colab_type": "text"
      },
      "source": [
        ">$\\begin{align*}\n",
        "\\frac{1}{r^2}\\frac{\\partial }{\\partial r}(r^2\\frac{\\partial u}{\\partial r})+\\frac{1}{r^2sin\\phi }\\frac{\\partial }{\\partial \\phi}(sin\\phi\\frac{\\partial u}{\\partial \\phi})=0\n",
        "\\end{align*}$ \\\\\n",
        "\n",
        "반지름 a라고 가정하자."
      ]
    },
    {
      "cell_type": "markdown",
      "metadata": {
        "id": "HNceduQISyfw",
        "colab_type": "text"
      },
      "source": [
        ">$\\begin{align*}\n",
        "u(a,\\phi)=f(cos\\phi), \\ 0<\\phi<\\pi \\\\\n",
        "\\end{align*}$\n",
        ">$\\begin{align*}\n",
        "u(r,\\phi)=\\frac{1}{2}\\sum_{n=0}^{\\infty }(\\frac{r}{a})^nP_n(cos\\phi)(2n+1)\\int_{-1}^{1}f(x)P_n(x)dx \\\\\n",
        "x= cos\\phi\n",
        "\\end{align*}$"
      ]
    },
    {
      "cell_type": "markdown",
      "metadata": {
        "id": "lIukmgY6Syjs",
        "colab_type": "text"
      },
      "source": [
        ">$\\begin{align*}\n",
        "f(cos\\phi)=\\left\\{\\begin{matrix}\n",
        "V &(0<\\phi<\\frac{\\pi}{2})\\rightarrow (0<x<1)\\\\ \n",
        " -V& (\\frac{\\pi}{2}<\\phi<\\pi)\\rightarrow (-1<x<0)\n",
        "\\end{matrix}\\right.\\\\\n",
        "\\\\\n",
        "\\int_{-1}^{1}f(x)P_n(x)dx=\\left\\{\\begin{matrix}\n",
        "0 & (n=even)\\\\ \n",
        "2V & (n=odd)\n",
        "\\end{matrix}\\right.\n",
        "\\end{align*}$"
      ]
    },
    {
      "cell_type": "markdown",
      "metadata": {
        "id": "-17zoWgMSyd4",
        "colab_type": "text"
      },
      "source": [
        ">$\\begin{align*}\n",
        "u(r,\\phi)=V[\\frac{3}{2}\\frac{r}{a}P_1(cos\\phi)-\\frac{7}{8}(\\frac{r}{a})^3P_3(cos\\phi)+\\frac{11}{16}(\\frac{r}{a})^5P_5(cos\\phi)\\cdots ] \\\\\n",
        "u(r,\\theta ,\\phi)=\\sum_{n=0}^{\\infty }(\\frac{a}{r})^{n+1}[\\frac{1}{2}a_{0n}P_n(cos\\phi)+\\sum_{m=1}^{n}(a_{mn}cosm\\theta+b_{mn}sin{m\\theta}){P_n}^m(cos\\phi)] \\\\\n",
        "\\therefore u(r,\\theta,\\phi)=\\frac{a(a^2-r^2)}{4\\pi}\\int_{0}^{2\\pi}\\int_{0}^{\\pi}\\frac{f(\\bar{\\theta},\\bar{\\phi}),sin \\bar{\\phi} d\\bar{\\phi} d \\bar{\\theta}}{(r^2+a^2-2racos\\phi)^\\frac{3}{2}} ,r<a\n",
        "\\end{align*}$"
      ]
    },
    {
      "cell_type": "markdown",
      "metadata": {
        "id": "T6G_3y1hSyYL",
        "colab_type": "text"
      },
      "source": [
        ">$\\begin{align*}\n",
        "cosu=cos\\phi cos\\bar{\\phi} +sin\\phi sin\\bar{\\phi }cos(\\theta-\\bar{\\theta }) \\\\\n",
        "K=\\frac{a(a^2-r^2)f(\\bar{\\theta },\\bar{\\phi })}{4\\pi(r^2+a^2-2racos\\phi)^\\frac{3}{2}}\n",
        "\\end{align*}$ \\\\\n",
        "a=R이고 f=K라고 바뀐다."
      ]
    },
    {
      "cell_type": "markdown",
      "metadata": {
        "id": "-2vyeLoLuzRF",
        "colab_type": "text"
      },
      "source": [
        "## Poisson's Equation for the Sphere"
      ]
    },
    {
      "cell_type": "markdown",
      "metadata": {
        "id": "3soj2g5-u6vf",
        "colab_type": "text"
      },
      "source": [
        ">$\\begin{align*}\n",
        "\\frac{\\partial^2 u}{\\partial r^2}+\\frac{2}{r}\\frac{\\partial u}{\\partial r}+\\frac{1}{r^2}\\frac{\\partial^2 u}{\\partial \\phi ^2}+\\frac{cos\\phi }{r^2}\\frac{\\partial u}{\\partial \\phi }+\\frac{1}{r^2sin\\phi }\\frac{\\partial^2 u}{\\partial \\theta ^2}=-F(r,\\phi ,\\theta )\n",
        "\\end{align*}$\n",
        ">$\\begin{align*}\n",
        "u(r,\\phi ,\\theta )=0\n",
        "\\end{align*}$\n",
        "\n",
        ">$\\begin{align*}\n",
        "F(r,\\phi ,\\theta )=0\n",
        "\\end{align*}$\n",
        "이라고 하면,\n",
        "\n",
        ">$\\begin{align*}\n",
        "a[u]=\\frac{1}{\\pi }\\int_{0}^{2\\pi }u(r,\\theta )cos\\theta d\\theta =a_n(r)\n",
        "\\end{align*}$\n",
        ">$\\begin{align*}\n",
        "u=0,1,2  \\cdot\\! \\cdot \\cdot\n",
        "\\end{align*}$  \\\\\n",
        ">$\\begin{align*}\n",
        "b[u]=\\frac{1}{\\pi }\\int_{0}^{2\\pi }u(r,\\theta )sin\\theta d\\theta =b_n(r) \n",
        "\\end{align*}$ \n",
        ">$\\begin{align*} u=1,2  \\cdot\\! \\cdot \\cdot\n",
        "\\end{align*}$ \\\\\n",
        ">$\\begin{align*}\n",
        "u(r,\\theta )=\\frac{a_0}{2}+\\sum_{n=1}^{\\infty }[a_n(r)cos\\theta +b_n(r)sin\\theta ]\n",
        "\\end{align*}$"
      ]
    },
    {
      "cell_type": "markdown",
      "metadata": {
        "id": "67nalF9LzJF6",
        "colab_type": "text"
      },
      "source": [
        "Fourier 변환\n",
        ">$\\begin{align*}\n",
        "{a_n}''+\\frac{1}{r}{a_n}'+\\frac{a_n}{r^2}=0 \\;  n\\neq0 \\\\\n",
        "{b_n}''+\\frac{1}{r}{\\varnothing _n}'+\\frac{b_n}{r^2}=0 \\; \n",
        "\\end{align*}$ \n",
        "\n"
      ]
    },
    {
      "cell_type": "markdown",
      "metadata": {
        "id": "KpgUAv97zJKb",
        "colab_type": "text"
      },
      "source": [
        ">$\\begin{align*}\n",
        "{a_0}''+\\frac{1}{r}{a_0}'=2\n",
        "\\end{align*}$\n",
        "\n",
        ">$\\begin{align*}\n",
        "a_0=\\frac{1}{2}r^2+c_1+c_2\\lim_{r\\rightarrow \\infty }r \\Rightarrow c_2=0 \n",
        "\\end{align*}$\n",
        "\n",
        ">$\\begin{align*}\n",
        "a_0(r)=\\frac{1}{2}r^2+c_1\n",
        "\\end{align*}$"
      ]
    },
    {
      "cell_type": "markdown",
      "metadata": {
        "id": "BTP_8x8tzJnO",
        "colab_type": "text"
      },
      "source": [
        ">$\\begin{align*}\n",
        "a_n(r)=c_1r^n+c_2r^{-n} \\\\\n",
        "r\\rightarrow \\infty \\Rightarrow c_2=0 \\\\\n",
        "\\end{align*}$\n",
        "\n",
        ">$\\begin{align*}\n",
        "b_n(r)=c_1r^n+c_2r^{-n} \\\\\n",
        "r\\rightarrow \\infty \\Rightarrow  c_2=0 \\\\\n",
        "\\end{align*}$\n",
        "\n",
        ">$\\begin{align*}\n",
        "\\therefore a_n(r)=c_nr^n, b_n(r)=d_nr^n\n",
        "\\end{align*}$"
      ]
    },
    {
      "cell_type": "markdown",
      "metadata": {
        "id": "Dnii8azxzJp_",
        "colab_type": "text"
      },
      "source": [
        ">$\\begin{align*}\n",
        "u(r,\\theta )=\\frac{1}{2}(\\frac{1}{2}r^2+c_1)+\\sum_{n=1 }^{\\infty }r^n(c_ncos_n\\theta +d_nsin\\theta )\n",
        "\\end{align*}$\n",
        "\n",
        ">$\\begin{align*}\n",
        "r\\rightarrow 1 \n",
        "\\end{align*}$\n",
        "\n",
        ">$\\begin{align*}\n",
        "sin\\theta =\\frac{1}{2}(\\frac{1}{2}+c_1)+\\sum_{\\infty }^{n=1}(c_ncon_n\\theta +d_nsin_n\\theta )\n",
        "\\end{align*}$\n"
      ]
    },
    {
      "cell_type": "markdown",
      "metadata": {
        "id": "ihWI5ypYzJIO",
        "colab_type": "text"
      },
      "source": [
        ">$\\begin{align*}\n",
        "c_1=-\\frac{1}{2}, \\ c_2=c_3=0,\\ d_1=1,\\ d_2=0 \\\\\n",
        "\\therefore  u(r,\\theta )=\\frac{1}{4}(r^2-1)+rsin\\theta \n",
        "\\end{align*}$"
      ]
    },
    {
      "cell_type": "code",
      "metadata": {
        "id": "5g6ah0GfUxaK",
        "colab_type": "code",
        "colab": {}
      },
      "source": [
        ""
      ],
      "execution_count": 0,
      "outputs": []
    }
  ]
}