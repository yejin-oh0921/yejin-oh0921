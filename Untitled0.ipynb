{
  "nbformat": 4,
  "nbformat_minor": 0,
  "metadata": {
    "colab": {
      "name": "Untitled0.ipynb",
      "provenance": [],
      "collapsed_sections": []
    },
    "kernelspec": {
      "name": "python3",
      "display_name": "Python 3"
    }
  },
  "cells": [
    {
      "cell_type": "markdown",
      "metadata": {
        "id": "UsGyfaGKfo55",
        "colab_type": "text"
      },
      "source": [
        "## Laplace's Equation in the Sphere"
      ]
    },
    {
      "cell_type": "markdown",
      "metadata": {
        "id": "Yuwf6oQ-Jw3l",
        "colab_type": "text"
      },
      "source": [
        ">$\\begin{align*}\n",
        "u_{rr}+\\frac{2}{r}u_r+\\frac{1}{r^2}u_{\\phi \\phi }+\\frac{cot\\phi }{r^2}u_\\phi +\\frac{1}{r^2sin^2\\phi }u_{\\theta \\theta }=0 \\ r<R \\\\\n",
        "u(R,\\phi, \\theta)=g(\\phi ,\\theta )\n",
        "\\end{align*}$"
      ]
    },
    {
      "cell_type": "markdown",
      "metadata": {
        "id": "3EfgqKWjSyKY",
        "colab_type": "text"
      },
      "source": [
        "#(a)\n"
      ]
    },
    {
      "cell_type": "markdown",
      "metadata": {
        "id": "32lAPd-xSyNe",
        "colab_type": "text"
      },
      "source": [
        ">$\\begin{align*}\n",
        "u(r,\\theta ,\\phi )=R(r)\\Theta (\\theta )\\Phi (\\phi )\n",
        "\\end{align*}$\n",
        "로 변수분리하면\n",
        "\n",
        ">$\\begin{align*}\n",
        "\\frac{\\Theta \\Phi }{r^2}\\frac{\\partial }{\\partial r}(r^2\\frac{\\partial R}{\\partial r})+\\frac{R\\Theta }{r^2sin\\phi }\\frac{\\partial }{\\partial \\phi }(sin\\phi \\frac{\\partial \\Phi }{\\partial \\phi })+\\frac{R\\Phi }{r^2sin^2\\phi }\\frac{\\partial^2 \\Theta }{\\partial \\theta ^2}=0\n",
        "\\end{align*}$\n",
        "이다. \\\\\n",
        "위 식을 $\\begin{align*}\n",
        "\\frac{R\\Theta \\Phi }{r^2sin^2\\phi }\n",
        "\\end{align*}$\n",
        "로 양변을 나눠주면,\n",
        ">$\\begin{align*}\n",
        "\\frac{sin^2\\phi}{R}\\frac{\\partial }{\\partial r}(\\frac{\\partial R}{\\partial r})+\\frac{sin\\phi }{\\Phi}\\frac{\\partial }{\\partial \\phi}(sin\\phi\\frac{\\partial \\Phi}{\\partial \\phi})=-\\frac{1}{\\Theta}\\frac{\\partial^2 \\Theta}{\\partial \\theta^2} \n",
        "\\end{align*}$ \\\\\n",
        ">$\\begin{align*}\n",
        "-\\frac{1}{\\Theta}\\frac{\\partial^2 \\Theta}{\\partial \\theta^2}=m^2\n",
        "\\end{align*}$\n",
        "\n",
        ">$\\begin{align*}\n",
        "{\\Theta}''+m^2\\Theta=0 \\ m=0,1,2 \\cdot \\! \\cdot \\cdot \n",
        "\\end{align*}$\n"
      ]
    },
    {
      "cell_type": "markdown",
      "metadata": {
        "id": "342Xd2hHUugi",
        "colab_type": "text"
      },
      "source": [
        ">$\\begin{align*}\n",
        "\\frac{1}{R}\\frac{\\partial }{\\partial r}(r^2\\frac{\\partial R}{\\partial r})=-[\\frac{1}{\\Phi sin\\phi }\\frac{\\partial }{\\partial \\phi }(sin\\phi \\frac{\\partial \\Phi }{\\partial \\phi })-\\frac{m^2}{sin^\\phi }]=\\lambda  \\\\\n",
        "\\end{align*}$\n",
        ">$\\begin{align*}\n",
        "\\therefore \\frac{\\partial }{\\partial r}(r^2\\frac{\\partial R}{\\partial r})-\\lambda R=0 \\rightarrow \\frac{1}{sin\\phi} \\frac{\\partial }{\\partial \\phi}(sin\\phi \\frac{\\partial \\Phi }{\\partial \\phi})+(\\lambda -\\frac{m^2}{sin^2\\phi })\\Phi=0 \\rightarrow r^2{R}''+2rR-\\lambda R=0, R=C_1r^n+C_2r^{-{n\\pi}}\n",
        "\\end{align*}$"
      ]
    },
    {
      "cell_type": "markdown",
      "metadata": {
        "id": "jdw2EiT-Uuao",
        "colab_type": "text"
      },
      "source": [
        ">$\\begin{align*}\n",
        "x=cos\\phi ,y= \\Phi \n",
        "\\end{align*}$ \n",
        "라고 하면,\n",
        "\n",
        "$\\begin{align*}\n",
        "\\frac{\\partial }{\\partial \\phi }=\\frac{\\partial x}{\\partial \\phi }\\frac{\\partial }{\\partial x}=-sin\\phi \\frac{\\partial }{\\partial x} \\\\\n",
        "\\frac{\\partial }{\\partial \\phi }(sin\\phi \\frac{\\partial \\Phi}{\\partial \\phi})=-sin\\phi\\frac{\\partial }{\\partial x}(sin\\phi\\frac{\\partial x}{\\partial \\phi}\\frac{\\partial \\Phi }{\\partial x}) \\\\\n",
        "=sin\\phi \\frac{\\partial (sin^2\\phi \\frac{\\partial y}{\\partial x})}{\\partial x} \\\\\n",
        "=\\sqrt{1-x^2}\\frac{\\partial }{\\partial x}((1-x^2)\\frac{\\partial y}{\\partial x})\n",
        "\\end{align*}$"
      ]
    },
    {
      "cell_type": "markdown",
      "metadata": {
        "id": "NisaSkJ7UuX3",
        "colab_type": "text"
      },
      "source": [
        ">$\\begin{align*}\n",
        "(1-x^2)y''-2xy+[(n+1)-\\frac{m^2}{1-x^2}]y^2=0\n",
        "\\end{align*}$\n",
        ">$\\begin{align*}\n",
        "u(a,\\theta ,\\phi)=f(\\theta,\\phi) \\\n",
        "\\ \n",
        "0<\\theta<2\\pi, \\ 0<\\phi<\\pi\n",
        "\\end{align*}$\n",
        "\n",
        ">$\\begin{align*} \\\\\n",
        "u(r,\\theta,\\phi)=\\sum_{n=D}^{\\infty }(\\frac{r}{a})^n[\\frac{1}{2}a_{0n}P_n(cos\\phi )+\\sum_{m=1}^{n}(a_{mn}cosm\\theta +b{mn}sinm\\theta ){P_n}^m(cos\\phi)]\n",
        "\\end{align*}$\n",
        ">$\\begin{align*}\n",
        "a_{mn}=\\frac{(2n+1)(n-m)!}{2\\pi(n+m)!}\\int_{0}^{2\\pi}\\int_{0}^{\\pi}f(\\theta,\\phi){P_n}^m(cos\\phi)cosm\\theta sin\\phi d\\phi d\\theta \\\\\n",
        "b_{mn}=\\frac{(2n+1)(n-m)!}{2\\pi(n+m)!}\\int_{0}^{2\\pi}\\int_{0}^{\\pi}f(\\theta,\\phi){P_n}^m(cos\\phi)sinm\\theta sin\\phi d\\phi d\\theta \n",
        "\\end{align*}$"
      ]
    },
    {
      "cell_type": "markdown",
      "metadata": {
        "id": "iu5v2kFthxVL",
        "colab_type": "text"
      },
      "source": [
        "#(b)"
      ]
    },
    {
      "cell_type": "markdown",
      "metadata": {
        "id": "AdSADwZNSyU2",
        "colab_type": "text"
      },
      "source": [
        ">$\\begin{align*}\n",
        "K(r,\\phi ,\\theta;R,\\varphi, \\vartheta ) \n",
        "\\end{align*}$\n",
        "도출 \\\\\n",
        ">$\\begin{align*}\n",
        "u(r,\\theta,\\phi)=u(r,\\phi) 가정\n",
        "\\end{align*}$"
      ]
    },
    {
      "cell_type": "markdown",
      "metadata": {
        "id": "WScKNDnNSyaE",
        "colab_type": "text"
      },
      "source": [
        ">$\\begin{align*}\n",
        "\\frac{1}{r^2}\\frac{\\partial }{\\partial r}(r^2\\frac{\\partial u}{\\partial r})+\\frac{1}{r^2sin\\phi }\\frac{\\partial }{\\partial \\phi}(sin\\phi\\frac{\\partial u}{\\partial \\phi})=0\n",
        "\\end{align*}$ \\\\\n",
        "\n",
        "반지름 a라고 가정하자."
      ]
    },
    {
      "cell_type": "markdown",
      "metadata": {
        "id": "HNceduQISyfw",
        "colab_type": "text"
      },
      "source": [
        ">$\\begin{align*}\n",
        "u(a,\\phi)=f(cos\\phi), \\ 0<\\phi<\\pi \\\\\n",
        "\\end{align*}$\n",
        ">$\\begin{align*}\n",
        "u(r,\\phi)=\\frac{1}{2}\\sum_{n=0}^{\\infty }(\\frac{r}{a})^nP_n(cos\\phi)(2n+1)\\int_{-1}^{1}f(x)P_n(x)dx \\\\\n",
        "x= cos\\phi\n",
        "\\end{align*}$"
      ]
    },
    {
      "cell_type": "markdown",
      "metadata": {
        "id": "lIukmgY6Syjs",
        "colab_type": "text"
      },
      "source": [
        ">$\\begin{align*}\n",
        "f(cos\\phi)=\\left\\{\\begin{matrix}\n",
        "V &(0<\\phi<\\frac{\\pi}{2})\\rightarrow (0<x<1)\\\\ \n",
        " -V& (\\frac{\\pi}{2}<\\phi<\\pi)\\rightarrow (-1<x<0)\n",
        "\\end{matrix}\\right.\\\\\n",
        "\\\\\n",
        "\\int_{-1}^{1}f(x)P_n(x)dx=\\left\\{\\begin{matrix}\n",
        "0 & (n=even)\\\\ \n",
        "2V & (n=odd)\n",
        "\\end{matrix}\\right.\n",
        "\\end{align*}$"
      ]
    },
    {
      "cell_type": "markdown",
      "metadata": {
        "id": "-17zoWgMSyd4",
        "colab_type": "text"
      },
      "source": [
        ">$\\begin{align*}\n",
        "u(r,\\phi)=V[\\frac{3}{2}\\frac{r}{a}P_1(cos\\phi)-\\frac{7}{8}(\\frac{r}{a})^3P_3(cos\\phi)+\\frac{11}{16}(\\frac{r}{a})^5P_5(cos\\phi)\\cdots ] \\\\\n",
        "u(r,\\theta ,\\phi)=\\sum_{n=0}^{\\infty }(\\frac{a}{r})^{n+1}[\\frac{1}{2}a_{0n}P_n(cos\\phi)+\\sum_{m=1}^{n}(a_{mn}cosm\\theta+b_{mn}sin{m\\theta}){P_n}^m(cos\\phi)] \\\\\n",
        "\\therefore u(r,\\theta,\\phi)=\\frac{a(a^2-r^2)}{4\\pi}\\int_{0}^{2\\pi}\\int_{0}^{\\pi}\\frac{f(\\bar{\\theta},\\bar{\\phi}),sin \\bar{\\phi} d\\bar{\\phi} d \\bar{\\theta}}{(r^2+a^2-2racos\\phi)^\\frac{3}{2}} ,r<a\n",
        "\\end{align*}$"
      ]
    },
    {
      "cell_type": "markdown",
      "metadata": {
        "id": "T6G_3y1hSyYL",
        "colab_type": "text"
      },
      "source": [
        ">$\\begin{align*}\n",
        "cosu=cos\\phi cos\\bar{\\phi} +sin\\phi sin\\bar{\\phi }cos(\\theta-\\bar{\\theta }) \\\\\n",
        "K=\\frac{a(a^2-r^2)f(\\bar{\\theta },\\bar{\\phi })}{4\\pi(r^2+a^2-2racos\\phi)^\\frac{3}{2}}\n",
        "\\end{align*}$ \\\\\n",
        "a=R이고 f=K라고 바뀐다."
      ]
    },
    {
      "cell_type": "markdown",
      "metadata": {
        "id": "-2vyeLoLuzRF",
        "colab_type": "text"
      },
      "source": [
        "## Poisson's Equation for the Sphere"
      ]
    },
    {
      "cell_type": "markdown",
      "metadata": {
        "id": "3soj2g5-u6vf",
        "colab_type": "text"
      },
      "source": [
        ">$\\begin{align*}\n",
        "\\frac{\\partial^2 u}{\\partial r^2}+\\frac{2}{r}\\frac{\\partial u}{\\partial r}+\\frac{1}{r^2}\\frac{\\partial^2 u}{\\partial \\phi ^2}+\\frac{cos\\phi }{r^2}\\frac{\\partial u}{\\partial \\phi }+\\frac{1}{r^2sin\\phi }\\frac{\\partial^2 u}{\\partial \\theta ^2}=-F(r,\\phi ,\\theta ), \\ r<R\n",
        "\\end{align*}$\n",
        ">$\\begin{align*}\n",
        "u(r,\\phi ,\\theta )=0\n",
        "\\end{align*}$\n",
        "\n",
        "포아송 방정식의 일반적인 풀이는 다음과 같다.\n",
        ">$\\begin{align*}\n",
        "\\bigtriangledown ^2\\phi =\\frac{\\rho }{\\epsilon _0}\n",
        "\\end{align*}$ \\\\\n",
        "포아송 방정식에 대한 일반적인 3차원 함수는 다음과 같다.\n",
        ">$\\begin{align*}\n",
        "G(r,{r}')=-\\frac{1}{4\\pi(r-{r}')}\n",
        "\\end{align*}$ \\\\\n",
        "구형 좌표로 표현하면 \\\\\n",
        ">$\\begin{align*}\n",
        "G(r,{r}')=-\\frac{1}{4\\pi(r^2-2r{r}'cos\\gamma -{r}'^2)}\n",
        "\\end{align*}$ \\\\\n",
        "한편 \\\\ \n",
        ">$\\begin{align*}\n",
        "cos\\gamma =cos\\theta cos(\\theta )'+sin\\theta sin{\\theta }^p rimecos(\\varphi -{\\varphi }') \n",
        "\\end{align*}$ \\\\\n",
        "r과 사이각도 r'에 대해 \\\\\n",
        ">$\\begin{align*}\n",
        "G(r,{r}')=-\\frac{1}{4\\pi{r}'}\\sum_{l=0}^{\\infty }(\\frac{{r}'}{r})^lP_l(cos\\gamma )\n",
        "\\end{align*}$ \\\\\n",
        "r<r'그리고 위식에 대한 r'>r 따라서 구형 고조파 가산 정리를 이용하면 \\\\\n",
        ">$\\begin{align*}\n",
        "G(r,{r}')=\\sum_{l=0}^{\\infty }\\sum_{m=-l}^{m=+l}\\frac{1}{2l+1}(\\frac{r^l_<}{r^l+1_>})Y_{l,m}({\\theta}',{\\varphi }')Y_{l,m}(\\theta ,\\varphi )\n",
        "(r_<은 더작은 r, r_>은 더 큰 r을 나타냄)\n",
        "\\end{align*}$ \\\\\n",
        "포아송 방정식에 대한 일반적 해법은 다음과 같다. \\\\\n",
        ">$\\begin{align*}\n",
        "\\phi(r)=-\\frac{1}{\\epsilon _0}\\int G(r,{r}')\\rho ({r}')d{V}' \\\\\n",
        "\\Rightarrow \\phi(r)=\\frac{1}{\\epsilon _0}\\sum_{l=0}^{\\infty }\\sum_{m=-l}^{m=+l}\\frac{1}{2l+1}[r^lP_{l,m}(r)+\\frac{q_l,m(r)}{r^{l+1}}]Y_{l,m}(\\theta ,\\varphi )\n",
        "\\end{align*}$ \\\\\n",
        "한편 \\\\\n",
        ">$\\begin{align*}\n",
        "P_{l,m}(r)=\\int_{r}^{\\infty }\\oint (\\frac{1}{{r}'^{l+1}})p({r'},\\theta,\\varphi )Y_{l,m}(\\theta,\\varphi )p^{l2}d\\Omega d{r}' \\\\\n",
        "q_{l,m}(r)=\\int_{0}^{r}\\oint {r}'^lp({r}',\\theta,\\varphi )Y_{l,m}(\\theta,\\varphi ){p}'^2d\\Omega d{r}'\n",
        "\\end{align*}$ \\\\\n"
      ]
    }
  ]
}